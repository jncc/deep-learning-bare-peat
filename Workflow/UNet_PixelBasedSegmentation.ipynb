{
 "cells": [
  {
   "cell_type": "markdown",
   "metadata": {},
   "source": [
    "# Workflow for training a pixel-based semantic segmentation model "
   ]
  },
  {
   "cell_type": "markdown",
   "metadata": {
    "id": "MOnDnn90AgXS"
   },
   "source": [
    "Load in Packages"
   ]
  },
  {
   "cell_type": "code",
   "execution_count": null,
   "metadata": {
    "id": "bMPumYGmdrgw"
   },
   "outputs": [],
   "source": [
    "import numpy as np\n",
    "import pandas as pd    \n",
    "from tensorflow import keras\n",
    "from tensorflow.keras import layers\n",
    "from tensorflow.keras.layers import Conv2D,BatchNormalization,ReLU,MaxPooling2D,Conv2DTranspose,concatenate,GlobalMaxPooling2D\n",
    "from tensorflow.keras.preprocessing.image import ImageDataGenerator\n",
    "import os\n",
    "import sklearn.metrics\n",
    "import matplotlib.pyplot as plt\n",
    "from tensorflow.keras.callbacks import EarlyStopping,ReduceLROnPlateau\n",
    "import pickle\n",
    "from tensorflow.keras import models\n",
    "from tensorflow.keras import initializers"
   ]
  },
  {
   "cell_type": "markdown",
   "metadata": {
    "id": "KOUcU83LAk6l"
   },
   "source": [
    "Load in the test and training arrays"
   ]
  },
  {
   "cell_type": "code",
   "execution_count": null,
   "metadata": {},
   "outputs": [],
   "source": [
    "testarray = np.load('testarray.npy')\n",
    "trainarray = np.load('trainarray.npy')"
   ]
  },
  {
   "cell_type": "markdown",
   "metadata": {},
   "source": [
    "Preprocessing steps"
   ]
  },
  {
   "cell_type": "code",
   "execution_count": null,
   "metadata": {
    "colab": {
     "base_uri": "https://localhost:8080/"
    },
    "executionInfo": {
     "elapsed": 151474,
     "status": "ok",
     "timestamp": 1624005747637,
     "user": {
      "displayName": "Becky Trippier",
      "photoUrl": "",
      "userId": "08787999710290862695"
     },
     "user_tz": -60
    },
    "id": "JnYC1jnvdt2s",
    "outputId": "c457a9d1-a622-40d7-b1c3-56c2cadf58ea"
   },
   "outputs": [
    {
     "name": "stdout",
     "output_type": "stream",
     "text": [
      "x_train shape: (2560, 256, 256, 4)\n",
      "2560 train samples\n",
      "512 test samples\n"
     ]
    }
   ],
   "source": [
    "## randomise training data\n",
    "permuted_index = np.random.permutation(len(trainarray))\n",
    "trainarray = trainarray[permuted_index,...]\n",
    "\n",
    "## split out data and labeles\n",
    "# test data\n",
    "testData = testarray[...,0:4]\n",
    "testData.shape\n",
    "# test label\n",
    "testLabel = testarray[...,4].max(axis=(1,2))\n",
    "testLabel.shape\n",
    "# training data\n",
    "trainData = trainarray[...,0:4]\n",
    "trainData.shape\n",
    "# training label\n",
    "trainLabel = trainarray[...,4].max(axis=(1,2))\n",
    "trainLabel.shape\n",
    "\n",
    "## set model variables to standard names\n",
    "x_train = trainData\n",
    "y_train = trainLabel\n",
    "x_test = testData\n",
    "y_test = testLabel\n",
    "\n",
    "## Scale images to the [0, 1] range\n",
    "x_train = x_train.astype(\"float32\") / 255\n",
    "x_test = x_test.astype(\"float32\") / 255\n",
    "\n",
    "#print resulting shapes to check\n",
    "print(\"x_train shape:\", x_train.shape)\n",
    "print(x_train.shape[0], \"train samples\")\n",
    "print(x_test.shape[0], \"test samples\")"
   ]
  },
  {
   "cell_type": "markdown",
   "metadata": {
    "id": "uOFn_hqYAoeM"
   },
   "source": [
    "Split out 10% for validation dataset\n"
   ]
  },
  {
   "cell_type": "code",
   "execution_count": null,
   "metadata": {
    "id": "PODl9UX6d3LW"
   },
   "outputs": [],
   "source": [
    "#added split out of validation data\n",
    "x_training = x_train[0:int(len(x_train)*0.9),...]\n",
    "y_training = y_train[0:int(len(y_train)*0.9),...]\n",
    "x_validation = x_train[int(len(y_train)*0.9):int(len(x_train)),...]\n",
    "y_validation = y_train[int(len(y_train)*0.9):int(len(x_train)),...]"
   ]
  },
  {
   "cell_type": "markdown",
   "metadata": {
    "id": "hvxBUPm8AqzC"
   },
   "source": [
    "Set data augmentation"
   ]
  },
  {
   "cell_type": "code",
   "execution_count": null,
   "metadata": {
    "id": "1T_aM_92d5Ma"
   },
   "outputs": [],
   "source": [
    "datagen = ImageDataGenerator(\n",
    "   # rotation_range=20, fill_mode='constant',cval=0,\n",
    "    #brightness_range= (0.8,1),\n",
    "    horizontal_flip=True, \n",
    "    #vertical_flip=True,\n",
    "    #shear_range = 0.2,\n",
    "    #validation_split=0.1\n",
    "    )"
   ]
  },
  {
   "cell_type": "markdown",
   "metadata": {
    "id": "43Oqo-9sA1SU"
   },
   "source": [
    "Create model infrastructure - UNet"
   ]
  },
  {
   "cell_type": "code",
   "execution_count": null,
   "metadata": {
    "id": "-I9bbvoYd7n0"
   },
   "outputs": [],
   "source": [
    "input_shape = (256,256,4)\n",
    "\n",
    "kernel_init = keras.initializers.glorot_uniform()\n",
    "\n",
    "inputs = keras.Input(shape=input_shape)\n",
    "conv1 = Conv2D(32, (3, 3), padding='same', kernel_initializer=kernel_init)(inputs)\n",
    "conv1 = BatchNormalization()(conv1)\n",
    "conv1 = ReLU()(conv1)\n",
    "conv1 = Conv2D(32, (3, 3), padding='same', kernel_initializer=kernel_init)(conv1)\n",
    "conv1 = BatchNormalization()(conv1)\n",
    "conv1 = ReLU()(conv1)\n",
    "pool1 = MaxPooling2D(pool_size=(2, 2))(conv1)\n",
    "\n",
    "conv2 = Conv2D(64, (3, 3), padding='same', kernel_initializer=kernel_init)(pool1)\n",
    "conv2 = BatchNormalization()(conv2)\n",
    "conv2 = ReLU()(conv2)\n",
    "conv2 = Conv2D(64, (3, 3), padding='same', kernel_initializer=kernel_init)(conv2)\n",
    "conv2 = BatchNormalization()(conv2)\n",
    "conv2 = ReLU()(conv2)\n",
    "pool2 = MaxPooling2D(pool_size=(2, 2))(conv2)\n",
    "\n",
    "conv3 = Conv2D(128, (3, 3), padding='same', kernel_initializer=kernel_init)(pool2)\n",
    "conv3 = BatchNormalization()(conv3)\n",
    "conv3 = ReLU()(conv3)\n",
    "conv3 = Conv2D(128, (3, 3), padding='same', kernel_initializer=kernel_init)(conv3)\n",
    "conv3 = BatchNormalization()(conv3)\n",
    "conv3 = ReLU()(conv3)\n",
    "up3 = concatenate([conv2, Conv2DTranspose(64, (2, 2), strides=(2, 2), padding='same',\n",
    "                                          kernel_initializer=kernel_init)(conv3)], axis=3)\n",
    "\n",
    "conv4 = Conv2D(64, (3, 3), padding='same', kernel_initializer=kernel_init)(up3)\n",
    "conv4 = BatchNormalization()(conv4)\n",
    "conv4 = ReLU()(conv4)\n",
    "conv4 = Conv2D(64, (3, 3), padding='same', kernel_initializer=kernel_init)(conv4)\n",
    "conv4 = BatchNormalization()(conv4)\n",
    "conv4 = ReLU()(conv4)\n",
    "up4 = concatenate([conv1, Conv2DTranspose(32, (2, 2), strides=(2, 2), padding='same',\n",
    "                                          kernel_initializer=kernel_init)(conv4)], axis=3)\n",
    "\n",
    "conv5 = Conv2D(32, (3, 3), padding='same', kernel_initializer=kernel_init)(up4)\n",
    "conv5 = BatchNormalization()(conv5)\n",
    "conv5 = ReLU()(conv5)\n",
    "conv5 = Conv2D(32, (3, 3), padding='same', kernel_initializer=kernel_init)(conv5)\n",
    "conv5 = BatchNormalization()(conv5)\n",
    "conv5 = ReLU()(conv5)\n",
    "\n",
    "conv6 = Conv2D(1, (1, 1), activation='sigmoid')(conv5)\n",
    "\n",
    "# model for training with image-level labels\n",
    "pl_model = keras.models.Model(inputs, conv6)\n",
    "\n",
    "# model for training with image-level labels\n",
    "#if use_GMP:\n",
    "gap6 = GlobalMaxPooling2D()(conv6)\n",
    "#else:\n",
    " #   gap6 = GlobalAveragePooling2D()(conv6)\n",
    "\n",
    "il_model = keras.models.Model(inputs, gap6)\n",
    "\n"
   ]
  },
  {
   "cell_type": "code",
   "execution_count": null,
   "metadata": {
    "id": "3O0qnHAmi3N6"
   },
   "outputs": [],
   "source": [
    "\n",
    "# if you are trainng on pixel level\n",
    "#pl_model.compile(optimizer=keras.optimizers.Adam(lr=learning_rate),\n",
    "                  #    loss=get_loss(pl_loss_func, pl_loss_param),\n",
    "                   #   metrics=[balanced_accuracy_pl, kappa_pl])\n",
    "#chip level\n",
    "il_model.compile(optimizer=keras.optimizers.Adam(lr=0.1),\n",
    "                      loss=\"binary_crossentropy\",\n",
    "                      metrics=['binary_accuracy'])\n",
    "\n",
    "il_model.summary()"
   ]
  },
  {
   "cell_type": "code",
   "execution_count": null,
   "metadata": {
    "id": "pgEGJv7gqcGM"
   },
   "outputs": [],
   "source": [
    "pl_model.summary()"
   ]
  },
  {
   "cell_type": "markdown",
   "metadata": {
    "id": "-Dyo_GmRA__B"
   },
   "source": [
    "Set early stopping and learning rate reduction callbacks"
   ]
  },
  {
   "cell_type": "code",
   "execution_count": null,
   "metadata": {
    "id": "MGPIz9SlqO3j"
   },
   "outputs": [],
   "source": [
    "#add in early stopping\n",
    "earlyStop = EarlyStopping(monitor='val_loss', patience=100,restore_best_weights=True,verbose=1)\n",
    "#edit in learning rate \n",
    "reducelr = ReduceLROnPlateau(monitor='val_loss',factor=0.1,patience=25,verbose=1)"
   ]
  },
  {
   "cell_type": "markdown",
   "metadata": {
    "id": "EjGkSeNMBHHJ"
   },
   "source": [
    "Fit the model"
   ]
  },
  {
   "cell_type": "code",
   "execution_count": null,
   "metadata": {
    "colab": {
     "base_uri": "https://localhost:8080/"
    },
    "executionInfo": {
     "elapsed": 4144030,
     "status": "ok",
     "timestamp": 1623947849791,
     "user": {
      "displayName": "Becky Trippier",
      "photoUrl": "",
      "userId": "08787999710290862695"
     },
     "user_tz": -60
    },
    "id": "EcgWJkrod-rd",
    "outputId": "4b5fad84-bee9-473b-e16f-18a359599d4a"
   },
   "outputs": [
    {
     "name": "stdout",
     "output_type": "stream",
     "text": [
      "Epoch 1/500\n",
      "72/72 [==============================] - 40s 263ms/step - loss: 0.6892 - binary_accuracy: 0.5859 - val_loss: 6.2664 - val_binary_accuracy: 0.5938\n",
      "Epoch 2/500\n",
      "72/72 [==============================] - 19s 258ms/step - loss: 0.6672 - binary_accuracy: 0.5920 - val_loss: 4.7862 - val_binary_accuracy: 0.5938\n",
      "Epoch 3/500\n",
      "72/72 [==============================] - 19s 257ms/step - loss: 0.6212 - binary_accuracy: 0.6020 - val_loss: 5.5804 - val_binary_accuracy: 0.5938\n",
      "Epoch 4/500\n",
      "72/72 [==============================] - 19s 258ms/step - loss: 0.5772 - binary_accuracy: 0.6589 - val_loss: 2.2373 - val_binary_accuracy: 0.6797\n",
      "Epoch 5/500\n",
      "72/72 [==============================] - 19s 257ms/step - loss: 0.5824 - binary_accuracy: 0.5998 - val_loss: 1.8634 - val_binary_accuracy: 0.5938\n",
      "Epoch 6/500\n",
      "72/72 [==============================] - 19s 257ms/step - loss: 0.5552 - binary_accuracy: 0.6693 - val_loss: 0.7100 - val_binary_accuracy: 0.5039\n",
      "Epoch 7/500\n",
      "72/72 [==============================] - 19s 257ms/step - loss: 0.5189 - binary_accuracy: 0.7305 - val_loss: 1.1381 - val_binary_accuracy: 0.6094\n",
      "Epoch 8/500\n",
      "72/72 [==============================] - 19s 257ms/step - loss: 0.4610 - binary_accuracy: 0.7717 - val_loss: 0.4875 - val_binary_accuracy: 0.7461\n",
      "Epoch 9/500\n",
      "72/72 [==============================] - 19s 257ms/step - loss: 0.4489 - binary_accuracy: 0.7795 - val_loss: 2.8745 - val_binary_accuracy: 0.5938\n",
      "Epoch 10/500\n",
      "72/72 [==============================] - 19s 257ms/step - loss: 0.4611 - binary_accuracy: 0.7804 - val_loss: 1.2503 - val_binary_accuracy: 0.6016\n",
      "Epoch 11/500\n",
      "72/72 [==============================] - 19s 257ms/step - loss: 0.4442 - binary_accuracy: 0.7830 - val_loss: 2.2023 - val_binary_accuracy: 0.5938\n",
      "Epoch 12/500\n",
      "72/72 [==============================] - 19s 258ms/step - loss: 0.4686 - binary_accuracy: 0.7726 - val_loss: 0.4671 - val_binary_accuracy: 0.7734\n",
      "Epoch 13/500\n",
      "72/72 [==============================] - 19s 258ms/step - loss: 0.4223 - binary_accuracy: 0.7964 - val_loss: 1.8498 - val_binary_accuracy: 0.5938\n",
      "Epoch 14/500\n",
      "72/72 [==============================] - 19s 258ms/step - loss: 0.4121 - binary_accuracy: 0.8082 - val_loss: 3.3244 - val_binary_accuracy: 0.5938\n",
      "Epoch 15/500\n",
      "72/72 [==============================] - 19s 258ms/step - loss: 0.4269 - binary_accuracy: 0.8008 - val_loss: 2.8500 - val_binary_accuracy: 0.6133\n",
      "Epoch 16/500\n",
      "72/72 [==============================] - 19s 257ms/step - loss: 0.3890 - binary_accuracy: 0.8181 - val_loss: 0.7171 - val_binary_accuracy: 0.6914\n",
      "Epoch 17/500\n",
      "72/72 [==============================] - 19s 257ms/step - loss: 0.3822 - binary_accuracy: 0.8264 - val_loss: 0.9131 - val_binary_accuracy: 0.7539\n",
      "Epoch 18/500\n",
      "72/72 [==============================] - 19s 257ms/step - loss: 0.3904 - binary_accuracy: 0.8190 - val_loss: 0.4298 - val_binary_accuracy: 0.8242\n",
      "Epoch 19/500\n",
      "72/72 [==============================] - 19s 257ms/step - loss: 0.3412 - binary_accuracy: 0.8511 - val_loss: 0.3966 - val_binary_accuracy: 0.8242\n",
      "Epoch 20/500\n",
      "72/72 [==============================] - 19s 258ms/step - loss: 0.3851 - binary_accuracy: 0.8173 - val_loss: 3.1207 - val_binary_accuracy: 0.5938\n",
      "Epoch 21/500\n",
      "72/72 [==============================] - 19s 257ms/step - loss: 0.3602 - binary_accuracy: 0.8403 - val_loss: 0.4085 - val_binary_accuracy: 0.8047\n",
      "Epoch 22/500\n",
      "72/72 [==============================] - 19s 257ms/step - loss: 0.3718 - binary_accuracy: 0.8247 - val_loss: 0.7845 - val_binary_accuracy: 0.7969\n",
      "Epoch 23/500\n",
      "72/72 [==============================] - 19s 257ms/step - loss: 0.3500 - binary_accuracy: 0.8446 - val_loss: 0.5937 - val_binary_accuracy: 0.7109\n",
      "Epoch 24/500\n",
      "72/72 [==============================] - 19s 258ms/step - loss: 0.3210 - binary_accuracy: 0.8498 - val_loss: 0.7065 - val_binary_accuracy: 0.6953\n",
      "Epoch 25/500\n",
      "72/72 [==============================] - 19s 257ms/step - loss: 0.3665 - binary_accuracy: 0.8251 - val_loss: 0.4923 - val_binary_accuracy: 0.7695\n",
      "Epoch 26/500\n",
      "72/72 [==============================] - 19s 258ms/step - loss: 0.3671 - binary_accuracy: 0.8316 - val_loss: 0.7059 - val_binary_accuracy: 0.7344\n",
      "Epoch 27/500\n",
      "72/72 [==============================] - 19s 257ms/step - loss: 0.3679 - binary_accuracy: 0.8281 - val_loss: 0.4510 - val_binary_accuracy: 0.8125\n",
      "Epoch 28/500\n",
      "72/72 [==============================] - 19s 258ms/step - loss: 0.3331 - binary_accuracy: 0.8498 - val_loss: 1.0027 - val_binary_accuracy: 0.6953\n",
      "Epoch 29/500\n",
      "72/72 [==============================] - 19s 257ms/step - loss: 0.3179 - binary_accuracy: 0.8585 - val_loss: 0.3769 - val_binary_accuracy: 0.8320\n",
      "Epoch 30/500\n",
      "72/72 [==============================] - 19s 257ms/step - loss: 0.3393 - binary_accuracy: 0.8598 - val_loss: 0.7429 - val_binary_accuracy: 0.7695\n",
      "Epoch 31/500\n",
      "72/72 [==============================] - 19s 257ms/step - loss: 0.3320 - binary_accuracy: 0.8559 - val_loss: 1.3801 - val_binary_accuracy: 0.6172\n",
      "Epoch 32/500\n",
      "72/72 [==============================] - 19s 257ms/step - loss: 0.3212 - binary_accuracy: 0.8546 - val_loss: 0.3770 - val_binary_accuracy: 0.8281\n",
      "Epoch 33/500\n",
      "72/72 [==============================] - 19s 257ms/step - loss: 0.3092 - binary_accuracy: 0.8681 - val_loss: 0.4255 - val_binary_accuracy: 0.7773\n",
      "Epoch 34/500\n",
      "72/72 [==============================] - 19s 257ms/step - loss: 0.3193 - binary_accuracy: 0.8620 - val_loss: 1.0495 - val_binary_accuracy: 0.5977\n",
      "Epoch 35/500\n",
      "72/72 [==============================] - 19s 257ms/step - loss: 0.3413 - binary_accuracy: 0.8455 - val_loss: 0.6849 - val_binary_accuracy: 0.7500\n",
      "Epoch 36/500\n",
      "72/72 [==============================] - 19s 257ms/step - loss: 0.3042 - binary_accuracy: 0.8754 - val_loss: 0.5771 - val_binary_accuracy: 0.7852\n",
      "Epoch 37/500\n",
      "72/72 [==============================] - 19s 257ms/step - loss: 0.3024 - binary_accuracy: 0.8655 - val_loss: 1.5096 - val_binary_accuracy: 0.4336\n",
      "Epoch 38/500\n",
      "72/72 [==============================] - 19s 258ms/step - loss: 0.2980 - binary_accuracy: 0.8698 - val_loss: 1.7849 - val_binary_accuracy: 0.6250\n",
      "Epoch 39/500\n",
      "72/72 [==============================] - 19s 257ms/step - loss: 0.3365 - binary_accuracy: 0.8477 - val_loss: 0.4869 - val_binary_accuracy: 0.8203\n",
      "Epoch 40/500\n",
      "72/72 [==============================] - 19s 258ms/step - loss: 0.3148 - binary_accuracy: 0.8628 - val_loss: 0.6728 - val_binary_accuracy: 0.7695\n",
      "Epoch 41/500\n",
      "72/72 [==============================] - 19s 258ms/step - loss: 0.2923 - binary_accuracy: 0.8694 - val_loss: 0.5114 - val_binary_accuracy: 0.7930\n",
      "Epoch 42/500\n",
      "72/72 [==============================] - 19s 257ms/step - loss: 0.2869 - binary_accuracy: 0.8806 - val_loss: 0.7268 - val_binary_accuracy: 0.6719\n",
      "Epoch 43/500\n",
      "72/72 [==============================] - 19s 258ms/step - loss: 0.2847 - binary_accuracy: 0.8780 - val_loss: 1.1777 - val_binary_accuracy: 0.6406\n",
      "Epoch 44/500\n",
      "72/72 [==============================] - 19s 258ms/step - loss: 0.3053 - binary_accuracy: 0.8737 - val_loss: 0.6340 - val_binary_accuracy: 0.7227\n",
      "Epoch 45/500\n",
      "72/72 [==============================] - 19s 258ms/step - loss: 0.2824 - binary_accuracy: 0.8819 - val_loss: 0.4753 - val_binary_accuracy: 0.8086\n",
      "Epoch 46/500\n",
      "72/72 [==============================] - 19s 257ms/step - loss: 0.2942 - binary_accuracy: 0.8689 - val_loss: 0.9343 - val_binary_accuracy: 0.6992\n",
      "Epoch 47/500\n",
      "72/72 [==============================] - 19s 257ms/step - loss: 0.2876 - binary_accuracy: 0.8741 - val_loss: 0.3746 - val_binary_accuracy: 0.8359\n",
      "Epoch 48/500\n",
      "72/72 [==============================] - 19s 256ms/step - loss: 0.3006 - binary_accuracy: 0.8728 - val_loss: 1.5827 - val_binary_accuracy: 0.6211\n",
      "Epoch 49/500\n",
      "72/72 [==============================] - 19s 258ms/step - loss: 0.2934 - binary_accuracy: 0.8724 - val_loss: 0.3089 - val_binary_accuracy: 0.8711\n",
      "Epoch 50/500\n",
      "72/72 [==============================] - 19s 257ms/step - loss: 0.2631 - binary_accuracy: 0.8889 - val_loss: 0.8225 - val_binary_accuracy: 0.7383\n",
      "Epoch 51/500\n",
      "72/72 [==============================] - 19s 258ms/step - loss: 0.3011 - binary_accuracy: 0.8737 - val_loss: 1.9959 - val_binary_accuracy: 0.6367\n",
      "Epoch 52/500\n",
      "72/72 [==============================] - 19s 258ms/step - loss: 0.2932 - binary_accuracy: 0.8746 - val_loss: 0.4790 - val_binary_accuracy: 0.8242\n",
      "Epoch 53/500\n",
      "72/72 [==============================] - 19s 257ms/step - loss: 0.2715 - binary_accuracy: 0.8815 - val_loss: 0.5198 - val_binary_accuracy: 0.7930\n",
      "Epoch 54/500\n",
      "72/72 [==============================] - 19s 257ms/step - loss: 0.3049 - binary_accuracy: 0.8702 - val_loss: 0.2912 - val_binary_accuracy: 0.8477\n",
      "Epoch 55/500\n",
      "72/72 [==============================] - 19s 257ms/step - loss: 0.2822 - binary_accuracy: 0.8811 - val_loss: 0.6128 - val_binary_accuracy: 0.8086\n",
      "Epoch 56/500\n",
      "72/72 [==============================] - 19s 257ms/step - loss: 0.2653 - binary_accuracy: 0.8889 - val_loss: 0.8736 - val_binary_accuracy: 0.6875\n",
      "Epoch 57/500\n",
      "72/72 [==============================] - 19s 258ms/step - loss: 0.2778 - binary_accuracy: 0.8737 - val_loss: 0.5737 - val_binary_accuracy: 0.7266\n",
      "Epoch 58/500\n",
      "72/72 [==============================] - 19s 258ms/step - loss: 0.2808 - binary_accuracy: 0.8854 - val_loss: 0.2834 - val_binary_accuracy: 0.8867\n",
      "Epoch 59/500\n",
      "72/72 [==============================] - 19s 258ms/step - loss: 0.2920 - binary_accuracy: 0.8763 - val_loss: 0.3155 - val_binary_accuracy: 0.8594\n",
      "Epoch 60/500\n",
      "72/72 [==============================] - 19s 257ms/step - loss: 0.2700 - binary_accuracy: 0.8867 - val_loss: 0.2794 - val_binary_accuracy: 0.8750\n",
      "Epoch 61/500\n",
      "72/72 [==============================] - 19s 257ms/step - loss: 0.2735 - binary_accuracy: 0.8776 - val_loss: 0.2346 - val_binary_accuracy: 0.8984\n",
      "Epoch 62/500\n",
      "72/72 [==============================] - 19s 258ms/step - loss: 0.2622 - binary_accuracy: 0.8898 - val_loss: 5.4453 - val_binary_accuracy: 0.5938\n",
      "Epoch 63/500\n",
      "72/72 [==============================] - 19s 257ms/step - loss: 0.2776 - binary_accuracy: 0.8789 - val_loss: 0.8202 - val_binary_accuracy: 0.7891\n",
      "Epoch 64/500\n",
      "72/72 [==============================] - 19s 258ms/step - loss: 0.2470 - binary_accuracy: 0.8954 - val_loss: 1.0957 - val_binary_accuracy: 0.7031\n",
      "Epoch 65/500\n",
      "72/72 [==============================] - 19s 257ms/step - loss: 0.2490 - binary_accuracy: 0.8958 - val_loss: 2.3270 - val_binary_accuracy: 0.6523\n",
      "Epoch 66/500\n",
      "72/72 [==============================] - 19s 258ms/step - loss: 0.2563 - binary_accuracy: 0.8937 - val_loss: 0.4308 - val_binary_accuracy: 0.8398\n",
      "Epoch 67/500\n",
      "72/72 [==============================] - 19s 257ms/step - loss: 0.2419 - binary_accuracy: 0.9023 - val_loss: 0.4404 - val_binary_accuracy: 0.8398\n",
      "Epoch 68/500\n",
      "72/72 [==============================] - 19s 257ms/step - loss: 0.2354 - binary_accuracy: 0.9019 - val_loss: 0.3007 - val_binary_accuracy: 0.8789\n",
      "Epoch 69/500\n",
      "72/72 [==============================] - 19s 257ms/step - loss: 0.2437 - binary_accuracy: 0.8958 - val_loss: 0.7363 - val_binary_accuracy: 0.8086\n",
      "Epoch 70/500\n",
      "72/72 [==============================] - 19s 257ms/step - loss: 0.2620 - binary_accuracy: 0.8915 - val_loss: 0.3589 - val_binary_accuracy: 0.8594\n",
      "Epoch 71/500\n",
      "72/72 [==============================] - 19s 257ms/step - loss: 0.2353 - binary_accuracy: 0.8976 - val_loss: 0.2596 - val_binary_accuracy: 0.8789\n",
      "Epoch 72/500\n",
      "72/72 [==============================] - 19s 257ms/step - loss: 0.2278 - binary_accuracy: 0.9071 - val_loss: 0.3112 - val_binary_accuracy: 0.8672\n",
      "Epoch 73/500\n",
      "72/72 [==============================] - 19s 257ms/step - loss: 0.2545 - binary_accuracy: 0.8937 - val_loss: 0.2416 - val_binary_accuracy: 0.9141\n",
      "Epoch 74/500\n",
      "72/72 [==============================] - 19s 258ms/step - loss: 0.2372 - binary_accuracy: 0.8971 - val_loss: 0.3716 - val_binary_accuracy: 0.8398\n",
      "Epoch 75/500\n",
      "72/72 [==============================] - 19s 258ms/step - loss: 0.2623 - binary_accuracy: 0.8841 - val_loss: 0.2943 - val_binary_accuracy: 0.8594\n",
      "Epoch 76/500\n",
      "72/72 [==============================] - 19s 257ms/step - loss: 0.2829 - binary_accuracy: 0.8828 - val_loss: 1.1284 - val_binary_accuracy: 0.7188\n",
      "Epoch 77/500\n",
      "72/72 [==============================] - 19s 258ms/step - loss: 0.2346 - binary_accuracy: 0.9080 - val_loss: 0.8796 - val_binary_accuracy: 0.6562\n",
      "Epoch 78/500\n",
      "72/72 [==============================] - 19s 257ms/step - loss: 0.2544 - binary_accuracy: 0.8980 - val_loss: 0.5215 - val_binary_accuracy: 0.8281\n",
      "Epoch 79/500\n",
      "72/72 [==============================] - 19s 257ms/step - loss: 0.2500 - binary_accuracy: 0.8954 - val_loss: 0.2661 - val_binary_accuracy: 0.8945\n",
      "Epoch 80/500\n",
      "72/72 [==============================] - 19s 257ms/step - loss: 0.2309 - binary_accuracy: 0.9015 - val_loss: 0.3241 - val_binary_accuracy: 0.8594\n",
      "Epoch 81/500\n",
      "72/72 [==============================] - 19s 257ms/step - loss: 0.2379 - binary_accuracy: 0.9015 - val_loss: 1.5692 - val_binary_accuracy: 0.6328\n",
      "Epoch 82/500\n",
      "72/72 [==============================] - 19s 257ms/step - loss: 0.2439 - binary_accuracy: 0.8980 - val_loss: 0.5682 - val_binary_accuracy: 0.7422\n",
      "Epoch 83/500\n",
      "72/72 [==============================] - 19s 257ms/step - loss: 0.2190 - binary_accuracy: 0.9089 - val_loss: 2.1792 - val_binary_accuracy: 0.6133\n",
      "Epoch 84/500\n",
      "72/72 [==============================] - 19s 257ms/step - loss: 0.2625 - binary_accuracy: 0.8928 - val_loss: 1.5626 - val_binary_accuracy: 0.6523\n",
      "Epoch 85/500\n",
      "72/72 [==============================] - 19s 257ms/step - loss: 0.2266 - binary_accuracy: 0.9071 - val_loss: 0.9817 - val_binary_accuracy: 0.7227\n",
      "Epoch 86/500\n",
      "72/72 [==============================] - 19s 257ms/step - loss: 0.2435 - binary_accuracy: 0.8997 - val_loss: 0.6596 - val_binary_accuracy: 0.6992\n",
      "\n",
      "Epoch 00086: ReduceLROnPlateau reducing learning rate to 0.010000000149011612.\n",
      "Epoch 87/500\n",
      "72/72 [==============================] - 19s 258ms/step - loss: 0.1981 - binary_accuracy: 0.9201 - val_loss: 0.2027 - val_binary_accuracy: 0.9180\n",
      "Epoch 88/500\n",
      "72/72 [==============================] - 19s 257ms/step - loss: 0.1848 - binary_accuracy: 0.9210 - val_loss: 0.2131 - val_binary_accuracy: 0.9062\n",
      "Epoch 89/500\n",
      "72/72 [==============================] - 19s 258ms/step - loss: 0.1746 - binary_accuracy: 0.9310 - val_loss: 0.2244 - val_binary_accuracy: 0.9023\n",
      "Epoch 90/500\n",
      "72/72 [==============================] - 19s 258ms/step - loss: 0.1735 - binary_accuracy: 0.9288 - val_loss: 0.2111 - val_binary_accuracy: 0.9141\n",
      "Epoch 91/500\n",
      "72/72 [==============================] - 19s 257ms/step - loss: 0.1778 - binary_accuracy: 0.9332 - val_loss: 0.2141 - val_binary_accuracy: 0.9141\n",
      "Epoch 92/500\n",
      "72/72 [==============================] - 19s 257ms/step - loss: 0.1740 - binary_accuracy: 0.9297 - val_loss: 0.2176 - val_binary_accuracy: 0.9258\n",
      "Epoch 93/500\n",
      "72/72 [==============================] - 19s 258ms/step - loss: 0.1722 - binary_accuracy: 0.9266 - val_loss: 0.2250 - val_binary_accuracy: 0.9141\n",
      "Epoch 94/500\n",
      "72/72 [==============================] - 19s 257ms/step - loss: 0.1646 - binary_accuracy: 0.9340 - val_loss: 0.2246 - val_binary_accuracy: 0.9062\n",
      "Epoch 95/500\n",
      "72/72 [==============================] - 19s 257ms/step - loss: 0.1671 - binary_accuracy: 0.9310 - val_loss: 0.2456 - val_binary_accuracy: 0.9023\n",
      "Epoch 96/500\n",
      "72/72 [==============================] - 19s 257ms/step - loss: 0.1630 - binary_accuracy: 0.9293 - val_loss: 0.2161 - val_binary_accuracy: 0.9062\n",
      "Epoch 97/500\n",
      "72/72 [==============================] - 19s 257ms/step - loss: 0.1703 - binary_accuracy: 0.9293 - val_loss: 0.2261 - val_binary_accuracy: 0.9062\n",
      "Epoch 98/500\n",
      "72/72 [==============================] - 19s 258ms/step - loss: 0.1626 - binary_accuracy: 0.9392 - val_loss: 0.2219 - val_binary_accuracy: 0.9141\n",
      "Epoch 99/500\n",
      "72/72 [==============================] - 19s 257ms/step - loss: 0.1623 - binary_accuracy: 0.9371 - val_loss: 0.2097 - val_binary_accuracy: 0.9219\n",
      "Epoch 100/500\n",
      "72/72 [==============================] - 19s 257ms/step - loss: 0.1557 - binary_accuracy: 0.9410 - val_loss: 0.2483 - val_binary_accuracy: 0.8906\n",
      "Epoch 101/500\n",
      "72/72 [==============================] - 19s 257ms/step - loss: 0.1695 - binary_accuracy: 0.9284 - val_loss: 0.2628 - val_binary_accuracy: 0.9023\n",
      "Epoch 102/500\n",
      "72/72 [==============================] - 19s 257ms/step - loss: 0.1581 - binary_accuracy: 0.9379 - val_loss: 0.2791 - val_binary_accuracy: 0.8945\n",
      "Epoch 103/500\n",
      "72/72 [==============================] - 19s 258ms/step - loss: 0.1542 - binary_accuracy: 0.9388 - val_loss: 0.2349 - val_binary_accuracy: 0.9180\n",
      "Epoch 104/500\n",
      "72/72 [==============================] - 18s 256ms/step - loss: 0.1606 - binary_accuracy: 0.9323 - val_loss: 0.2216 - val_binary_accuracy: 0.9258\n",
      "Epoch 105/500\n",
      "72/72 [==============================] - 19s 257ms/step - loss: 0.1451 - binary_accuracy: 0.9405 - val_loss: 0.2600 - val_binary_accuracy: 0.9180\n",
      "Epoch 106/500\n",
      "72/72 [==============================] - 19s 257ms/step - loss: 0.1526 - binary_accuracy: 0.9397 - val_loss: 0.2531 - val_binary_accuracy: 0.9062\n",
      "Epoch 107/500\n",
      "72/72 [==============================] - 19s 257ms/step - loss: 0.1544 - binary_accuracy: 0.9375 - val_loss: 0.2424 - val_binary_accuracy: 0.9102\n",
      "Epoch 108/500\n",
      "72/72 [==============================] - 18s 256ms/step - loss: 0.1546 - binary_accuracy: 0.9353 - val_loss: 0.3440 - val_binary_accuracy: 0.8789\n",
      "Epoch 109/500\n",
      "72/72 [==============================] - 19s 257ms/step - loss: 0.1522 - binary_accuracy: 0.9418 - val_loss: 0.2093 - val_binary_accuracy: 0.9258\n",
      "Epoch 110/500\n",
      "72/72 [==============================] - 19s 257ms/step - loss: 0.1400 - binary_accuracy: 0.9449 - val_loss: 0.2108 - val_binary_accuracy: 0.9219\n",
      "Epoch 111/500\n",
      "72/72 [==============================] - 18s 256ms/step - loss: 0.1413 - binary_accuracy: 0.9431 - val_loss: 0.2504 - val_binary_accuracy: 0.9062\n",
      "Epoch 112/500\n",
      "72/72 [==============================] - 19s 257ms/step - loss: 0.1441 - binary_accuracy: 0.9436 - val_loss: 0.2127 - val_binary_accuracy: 0.9102\n",
      "\n",
      "Epoch 00112: ReduceLROnPlateau reducing learning rate to 0.0009999999776482583.\n",
      "Epoch 113/500\n",
      "72/72 [==============================] - 18s 256ms/step - loss: 0.1492 - binary_accuracy: 0.9358 - val_loss: 0.2118 - val_binary_accuracy: 0.9258\n",
      "Epoch 114/500\n",
      "72/72 [==============================] - 19s 257ms/step - loss: 0.1320 - binary_accuracy: 0.9427 - val_loss: 0.2122 - val_binary_accuracy: 0.9258\n",
      "Epoch 115/500\n",
      "72/72 [==============================] - 18s 256ms/step - loss: 0.1333 - binary_accuracy: 0.9501 - val_loss: 0.2095 - val_binary_accuracy: 0.9297\n",
      "Epoch 116/500\n",
      "72/72 [==============================] - 18s 256ms/step - loss: 0.1356 - binary_accuracy: 0.9427 - val_loss: 0.2092 - val_binary_accuracy: 0.9297\n",
      "Epoch 117/500\n",
      "72/72 [==============================] - 18s 256ms/step - loss: 0.1354 - binary_accuracy: 0.9457 - val_loss: 0.2106 - val_binary_accuracy: 0.9297\n",
      "Epoch 118/500\n",
      "72/72 [==============================] - 19s 257ms/step - loss: 0.1388 - binary_accuracy: 0.9449 - val_loss: 0.2098 - val_binary_accuracy: 0.9258\n",
      "Epoch 119/500\n",
      "72/72 [==============================] - 19s 257ms/step - loss: 0.1359 - binary_accuracy: 0.9462 - val_loss: 0.2068 - val_binary_accuracy: 0.9297\n",
      "Epoch 120/500\n",
      "72/72 [==============================] - 18s 256ms/step - loss: 0.1339 - binary_accuracy: 0.9492 - val_loss: 0.2050 - val_binary_accuracy: 0.9297\n",
      "Epoch 121/500\n",
      "72/72 [==============================] - 19s 257ms/step - loss: 0.1359 - binary_accuracy: 0.9440 - val_loss: 0.2029 - val_binary_accuracy: 0.9297\n",
      "Epoch 122/500\n",
      "72/72 [==============================] - 19s 257ms/step - loss: 0.1395 - binary_accuracy: 0.9440 - val_loss: 0.2025 - val_binary_accuracy: 0.9180\n",
      "Epoch 123/500\n",
      "72/72 [==============================] - 19s 257ms/step - loss: 0.1321 - binary_accuracy: 0.9518 - val_loss: 0.2051 - val_binary_accuracy: 0.9180\n",
      "Epoch 124/500\n",
      "72/72 [==============================] - 19s 257ms/step - loss: 0.1420 - binary_accuracy: 0.9405 - val_loss: 0.2087 - val_binary_accuracy: 0.9180\n",
      "Epoch 125/500\n",
      "72/72 [==============================] - 19s 257ms/step - loss: 0.1291 - binary_accuracy: 0.9475 - val_loss: 0.2127 - val_binary_accuracy: 0.9297\n",
      "Epoch 126/500\n",
      "72/72 [==============================] - 19s 257ms/step - loss: 0.1340 - binary_accuracy: 0.9470 - val_loss: 0.2075 - val_binary_accuracy: 0.9180\n",
      "Epoch 127/500\n",
      "72/72 [==============================] - 19s 257ms/step - loss: 0.1360 - binary_accuracy: 0.9475 - val_loss: 0.2077 - val_binary_accuracy: 0.9258\n",
      "Epoch 128/500\n",
      "72/72 [==============================] - 19s 257ms/step - loss: 0.1369 - binary_accuracy: 0.9431 - val_loss: 0.2089 - val_binary_accuracy: 0.9297\n",
      "Epoch 129/500\n",
      "72/72 [==============================] - 19s 257ms/step - loss: 0.1213 - binary_accuracy: 0.9518 - val_loss: 0.2109 - val_binary_accuracy: 0.9297\n",
      "Epoch 130/500\n",
      "72/72 [==============================] - 19s 257ms/step - loss: 0.1347 - binary_accuracy: 0.9488 - val_loss: 0.2153 - val_binary_accuracy: 0.9297\n",
      "Epoch 131/500\n",
      "72/72 [==============================] - 19s 257ms/step - loss: 0.1324 - binary_accuracy: 0.9492 - val_loss: 0.2093 - val_binary_accuracy: 0.9258\n",
      "Epoch 132/500\n",
      "72/72 [==============================] - 19s 257ms/step - loss: 0.1252 - binary_accuracy: 0.9457 - val_loss: 0.2081 - val_binary_accuracy: 0.9219\n",
      "Epoch 133/500\n",
      "72/72 [==============================] - 18s 256ms/step - loss: 0.1386 - binary_accuracy: 0.9444 - val_loss: 0.2069 - val_binary_accuracy: 0.9297\n",
      "Epoch 134/500\n",
      "72/72 [==============================] - 19s 257ms/step - loss: 0.1351 - binary_accuracy: 0.9431 - val_loss: 0.2056 - val_binary_accuracy: 0.9219\n",
      "Epoch 135/500\n",
      "72/72 [==============================] - 19s 258ms/step - loss: 0.1242 - binary_accuracy: 0.9505 - val_loss: 0.2079 - val_binary_accuracy: 0.9258\n",
      "Epoch 136/500\n",
      "72/72 [==============================] - 19s 257ms/step - loss: 0.1337 - binary_accuracy: 0.9505 - val_loss: 0.2102 - val_binary_accuracy: 0.9297\n",
      "Epoch 137/500\n",
      "72/72 [==============================] - 19s 257ms/step - loss: 0.1369 - binary_accuracy: 0.9479 - val_loss: 0.2107 - val_binary_accuracy: 0.9297\n",
      "Epoch 138/500\n",
      "72/72 [==============================] - 19s 257ms/step - loss: 0.1334 - binary_accuracy: 0.9510 - val_loss: 0.2128 - val_binary_accuracy: 0.9297\n",
      "Epoch 139/500\n",
      "72/72 [==============================] - 19s 257ms/step - loss: 0.1267 - binary_accuracy: 0.9479 - val_loss: 0.2102 - val_binary_accuracy: 0.9219\n",
      "Epoch 140/500\n",
      "72/72 [==============================] - 19s 257ms/step - loss: 0.1254 - binary_accuracy: 0.9510 - val_loss: 0.2115 - val_binary_accuracy: 0.9219\n",
      "Epoch 141/500\n",
      "72/72 [==============================] - 19s 257ms/step - loss: 0.1248 - binary_accuracy: 0.9531 - val_loss: 0.2095 - val_binary_accuracy: 0.9219\n",
      "Epoch 142/500\n",
      "72/72 [==============================] - 18s 256ms/step - loss: 0.1340 - binary_accuracy: 0.9466 - val_loss: 0.2104 - val_binary_accuracy: 0.9258\n",
      "Epoch 143/500\n",
      "72/72 [==============================] - 19s 257ms/step - loss: 0.1310 - binary_accuracy: 0.9475 - val_loss: 0.2076 - val_binary_accuracy: 0.9219\n",
      "Epoch 144/500\n",
      "72/72 [==============================] - 18s 256ms/step - loss: 0.1270 - binary_accuracy: 0.9484 - val_loss: 0.2112 - val_binary_accuracy: 0.9258\n",
      "Epoch 145/500\n",
      "72/72 [==============================] - 19s 257ms/step - loss: 0.1403 - binary_accuracy: 0.9444 - val_loss: 0.2070 - val_binary_accuracy: 0.9258\n",
      "Epoch 146/500\n",
      "72/72 [==============================] - 18s 256ms/step - loss: 0.1307 - binary_accuracy: 0.9501 - val_loss: 0.2083 - val_binary_accuracy: 0.9297\n",
      "Epoch 147/500\n",
      "72/72 [==============================] - 18s 256ms/step - loss: 0.1174 - binary_accuracy: 0.9566 - val_loss: 0.2080 - val_binary_accuracy: 0.9297\n",
      "\n",
      "Epoch 00147: ReduceLROnPlateau reducing learning rate to 9.999999310821295e-05.\n",
      "Epoch 148/500\n",
      "72/72 [==============================] - 19s 257ms/step - loss: 0.1244 - binary_accuracy: 0.9583 - val_loss: 0.2081 - val_binary_accuracy: 0.9258\n",
      "Epoch 149/500\n",
      "72/72 [==============================] - 19s 257ms/step - loss: 0.1243 - binary_accuracy: 0.9527 - val_loss: 0.2082 - val_binary_accuracy: 0.9219\n",
      "Epoch 150/500\n",
      "72/72 [==============================] - 19s 257ms/step - loss: 0.1273 - binary_accuracy: 0.9475 - val_loss: 0.2087 - val_binary_accuracy: 0.9258\n",
      "Epoch 151/500\n",
      "72/72 [==============================] - 19s 257ms/step - loss: 0.1254 - binary_accuracy: 0.9475 - val_loss: 0.2092 - val_binary_accuracy: 0.9258\n",
      "Epoch 152/500\n",
      "72/72 [==============================] - 18s 256ms/step - loss: 0.1228 - binary_accuracy: 0.9544 - val_loss: 0.2088 - val_binary_accuracy: 0.9219\n",
      "Epoch 153/500\n",
      "72/72 [==============================] - 18s 256ms/step - loss: 0.1272 - binary_accuracy: 0.9501 - val_loss: 0.2089 - val_binary_accuracy: 0.9180\n",
      "Epoch 154/500\n",
      "72/72 [==============================] - 19s 257ms/step - loss: 0.1267 - binary_accuracy: 0.9488 - val_loss: 0.2086 - val_binary_accuracy: 0.9180\n",
      "Epoch 155/500\n",
      "72/72 [==============================] - 18s 256ms/step - loss: 0.1294 - binary_accuracy: 0.9497 - val_loss: 0.2087 - val_binary_accuracy: 0.9180\n",
      "Epoch 156/500\n",
      "72/72 [==============================] - 19s 257ms/step - loss: 0.1248 - binary_accuracy: 0.9479 - val_loss: 0.2099 - val_binary_accuracy: 0.9219\n",
      "Epoch 157/500\n",
      "72/72 [==============================] - 19s 257ms/step - loss: 0.1211 - binary_accuracy: 0.9523 - val_loss: 0.2091 - val_binary_accuracy: 0.9219\n",
      "Epoch 158/500\n",
      "72/72 [==============================] - 18s 256ms/step - loss: 0.1362 - binary_accuracy: 0.9440 - val_loss: 0.2100 - val_binary_accuracy: 0.9219\n",
      "Epoch 159/500\n",
      "72/72 [==============================] - 18s 256ms/step - loss: 0.1226 - binary_accuracy: 0.9557 - val_loss: 0.2098 - val_binary_accuracy: 0.9258\n",
      "Epoch 160/500\n",
      "72/72 [==============================] - 18s 256ms/step - loss: 0.1194 - binary_accuracy: 0.9557 - val_loss: 0.2101 - val_binary_accuracy: 0.9258\n",
      "Epoch 161/500\n",
      "72/72 [==============================] - 18s 256ms/step - loss: 0.1278 - binary_accuracy: 0.9518 - val_loss: 0.2096 - val_binary_accuracy: 0.9258\n",
      "Epoch 162/500\n",
      "72/72 [==============================] - 19s 257ms/step - loss: 0.1384 - binary_accuracy: 0.9405 - val_loss: 0.2089 - val_binary_accuracy: 0.9219\n",
      "Epoch 163/500\n",
      "72/72 [==============================] - 18s 256ms/step - loss: 0.1312 - binary_accuracy: 0.9462 - val_loss: 0.2093 - val_binary_accuracy: 0.9258\n",
      "Epoch 164/500\n",
      "72/72 [==============================] - 19s 257ms/step - loss: 0.1199 - binary_accuracy: 0.9575 - val_loss: 0.2092 - val_binary_accuracy: 0.9258\n",
      "Epoch 165/500\n",
      "72/72 [==============================] - 19s 257ms/step - loss: 0.1250 - binary_accuracy: 0.9514 - val_loss: 0.2096 - val_binary_accuracy: 0.9219\n",
      "Epoch 166/500\n",
      "72/72 [==============================] - 18s 256ms/step - loss: 0.1240 - binary_accuracy: 0.9514 - val_loss: 0.2103 - val_binary_accuracy: 0.9258\n",
      "Epoch 167/500\n",
      "72/72 [==============================] - 18s 257ms/step - loss: 0.1215 - binary_accuracy: 0.9531 - val_loss: 0.2093 - val_binary_accuracy: 0.9219\n",
      "Epoch 168/500\n",
      "72/72 [==============================] - 18s 256ms/step - loss: 0.1334 - binary_accuracy: 0.9449 - val_loss: 0.2088 - val_binary_accuracy: 0.9219\n",
      "Epoch 169/500\n",
      "72/72 [==============================] - 19s 257ms/step - loss: 0.1239 - binary_accuracy: 0.9531 - val_loss: 0.2085 - val_binary_accuracy: 0.9180\n",
      "Epoch 170/500\n",
      "72/72 [==============================] - 19s 257ms/step - loss: 0.1267 - binary_accuracy: 0.9514 - val_loss: 0.2082 - val_binary_accuracy: 0.9180\n",
      "Epoch 171/500\n",
      "72/72 [==============================] - 19s 258ms/step - loss: 0.1315 - binary_accuracy: 0.9497 - val_loss: 0.2084 - val_binary_accuracy: 0.9219\n",
      "Epoch 172/500\n",
      "72/72 [==============================] - 19s 257ms/step - loss: 0.1180 - binary_accuracy: 0.9553 - val_loss: 0.2093 - val_binary_accuracy: 0.9219\n",
      "\n",
      "Epoch 00172: ReduceLROnPlateau reducing learning rate to 9.999999019782991e-06.\n",
      "Epoch 173/500\n",
      "72/72 [==============================] - 18s 257ms/step - loss: 0.1300 - binary_accuracy: 0.9462 - val_loss: 0.2091 - val_binary_accuracy: 0.9180\n",
      "Epoch 174/500\n",
      "72/72 [==============================] - 19s 257ms/step - loss: 0.1316 - binary_accuracy: 0.9475 - val_loss: 0.2096 - val_binary_accuracy: 0.9180\n",
      "Epoch 175/500\n",
      "72/72 [==============================] - 19s 257ms/step - loss: 0.1266 - binary_accuracy: 0.9523 - val_loss: 0.2097 - val_binary_accuracy: 0.9258\n",
      "Epoch 176/500\n",
      "72/72 [==============================] - 19s 257ms/step - loss: 0.1256 - binary_accuracy: 0.9484 - val_loss: 0.2103 - val_binary_accuracy: 0.9297\n",
      "Epoch 177/500\n",
      "72/72 [==============================] - 19s 257ms/step - loss: 0.1254 - binary_accuracy: 0.9497 - val_loss: 0.2101 - val_binary_accuracy: 0.9297\n",
      "Epoch 178/500\n",
      "72/72 [==============================] - 19s 256ms/step - loss: 0.1237 - binary_accuracy: 0.9518 - val_loss: 0.2099 - val_binary_accuracy: 0.9180\n",
      "Epoch 179/500\n",
      "72/72 [==============================] - 19s 257ms/step - loss: 0.1258 - binary_accuracy: 0.9523 - val_loss: 0.2094 - val_binary_accuracy: 0.9180\n",
      "Epoch 180/500\n",
      "72/72 [==============================] - 19s 257ms/step - loss: 0.1200 - binary_accuracy: 0.9549 - val_loss: 0.2090 - val_binary_accuracy: 0.9180\n",
      "Epoch 181/500\n",
      "72/72 [==============================] - 19s 257ms/step - loss: 0.1261 - binary_accuracy: 0.9544 - val_loss: 0.2089 - val_binary_accuracy: 0.9180\n",
      "Epoch 182/500\n",
      "72/72 [==============================] - 18s 256ms/step - loss: 0.1227 - binary_accuracy: 0.9488 - val_loss: 0.2095 - val_binary_accuracy: 0.9219\n",
      "Epoch 183/500\n",
      "72/72 [==============================] - 19s 257ms/step - loss: 0.1279 - binary_accuracy: 0.9492 - val_loss: 0.2095 - val_binary_accuracy: 0.9219\n",
      "Epoch 184/500\n",
      "72/72 [==============================] - 19s 257ms/step - loss: 0.1244 - binary_accuracy: 0.9514 - val_loss: 0.2089 - val_binary_accuracy: 0.9180\n",
      "Epoch 185/500\n",
      "72/72 [==============================] - 19s 257ms/step - loss: 0.1316 - binary_accuracy: 0.9457 - val_loss: 0.2088 - val_binary_accuracy: 0.9219\n",
      "Epoch 186/500\n",
      "72/72 [==============================] - 19s 257ms/step - loss: 0.1167 - binary_accuracy: 0.9497 - val_loss: 0.2087 - val_binary_accuracy: 0.9180\n",
      "Epoch 187/500\n",
      "72/72 [==============================] - 19s 257ms/step - loss: 0.1256 - binary_accuracy: 0.9523 - val_loss: 0.2091 - val_binary_accuracy: 0.9219\n",
      "Epoch 188/500\n",
      "72/72 [==============================] - 19s 257ms/step - loss: 0.1305 - binary_accuracy: 0.9497 - val_loss: 0.2090 - val_binary_accuracy: 0.9219\n",
      "Epoch 189/500\n",
      "72/72 [==============================] - 19s 257ms/step - loss: 0.1318 - binary_accuracy: 0.9514 - val_loss: 0.2093 - val_binary_accuracy: 0.9180\n",
      "Epoch 190/500\n",
      "72/72 [==============================] - 19s 257ms/step - loss: 0.1300 - binary_accuracy: 0.9497 - val_loss: 0.2087 - val_binary_accuracy: 0.9219\n",
      "Epoch 191/500\n",
      "72/72 [==============================] - 18s 256ms/step - loss: 0.1352 - binary_accuracy: 0.9466 - val_loss: 0.2093 - val_binary_accuracy: 0.9180\n",
      "Epoch 192/500\n",
      "72/72 [==============================] - 19s 257ms/step - loss: 0.1300 - binary_accuracy: 0.9436 - val_loss: 0.2091 - val_binary_accuracy: 0.9219\n",
      "Epoch 193/500\n",
      "72/72 [==============================] - 19s 257ms/step - loss: 0.1303 - binary_accuracy: 0.9462 - val_loss: 0.2093 - val_binary_accuracy: 0.9219\n",
      "Epoch 194/500\n",
      "72/72 [==============================] - 19s 257ms/step - loss: 0.1155 - binary_accuracy: 0.9527 - val_loss: 0.2088 - val_binary_accuracy: 0.9219\n",
      "Epoch 195/500\n",
      "72/72 [==============================] - 19s 257ms/step - loss: 0.1256 - binary_accuracy: 0.9540 - val_loss: 0.2096 - val_binary_accuracy: 0.9219\n",
      "Epoch 196/500\n",
      "72/72 [==============================] - 19s 257ms/step - loss: 0.1257 - binary_accuracy: 0.9497 - val_loss: 0.2092 - val_binary_accuracy: 0.9180\n",
      "Epoch 197/500\n",
      "72/72 [==============================] - 19s 257ms/step - loss: 0.1299 - binary_accuracy: 0.9488 - val_loss: 0.2090 - val_binary_accuracy: 0.9180\n",
      "\n",
      "Epoch 00197: ReduceLROnPlateau reducing learning rate to 9.99999883788405e-07.\n",
      "Epoch 198/500\n",
      "72/72 [==============================] - 19s 257ms/step - loss: 0.1401 - binary_accuracy: 0.9418 - val_loss: 0.2091 - val_binary_accuracy: 0.9180\n",
      "Epoch 199/500\n",
      "72/72 [==============================] - 18s 256ms/step - loss: 0.1355 - binary_accuracy: 0.9479 - val_loss: 0.2095 - val_binary_accuracy: 0.9141\n",
      "Epoch 200/500\n",
      "72/72 [==============================] - 19s 257ms/step - loss: 0.1274 - binary_accuracy: 0.9514 - val_loss: 0.2095 - val_binary_accuracy: 0.9180\n",
      "Epoch 201/500\n",
      "72/72 [==============================] - 19s 257ms/step - loss: 0.1289 - binary_accuracy: 0.9497 - val_loss: 0.2095 - val_binary_accuracy: 0.9180\n",
      "Epoch 202/500\n",
      "72/72 [==============================] - 18s 256ms/step - loss: 0.1256 - binary_accuracy: 0.9510 - val_loss: 0.2090 - val_binary_accuracy: 0.9180\n",
      "Epoch 203/500\n",
      "72/72 [==============================] - 19s 257ms/step - loss: 0.1411 - binary_accuracy: 0.9449 - val_loss: 0.2089 - val_binary_accuracy: 0.9180\n",
      "Epoch 204/500\n",
      "72/72 [==============================] - 19s 257ms/step - loss: 0.1304 - binary_accuracy: 0.9484 - val_loss: 0.2089 - val_binary_accuracy: 0.9180\n",
      "Epoch 205/500\n",
      "72/72 [==============================] - 19s 257ms/step - loss: 0.1226 - binary_accuracy: 0.9549 - val_loss: 0.2093 - val_binary_accuracy: 0.9141\n",
      "Epoch 206/500\n",
      "72/72 [==============================] - 19s 257ms/step - loss: 0.1247 - binary_accuracy: 0.9514 - val_loss: 0.2092 - val_binary_accuracy: 0.9141\n",
      "Epoch 207/500\n",
      "72/72 [==============================] - 19s 257ms/step - loss: 0.1252 - binary_accuracy: 0.9566 - val_loss: 0.2095 - val_binary_accuracy: 0.9180\n",
      "Epoch 208/500\n",
      "72/72 [==============================] - 19s 257ms/step - loss: 0.1163 - binary_accuracy: 0.9583 - val_loss: 0.2096 - val_binary_accuracy: 0.9180\n",
      "Epoch 209/500\n",
      "72/72 [==============================] - 19s 257ms/step - loss: 0.1228 - binary_accuracy: 0.9457 - val_loss: 0.2095 - val_binary_accuracy: 0.9180\n",
      "Epoch 210/500\n",
      "72/72 [==============================] - 19s 257ms/step - loss: 0.1297 - binary_accuracy: 0.9479 - val_loss: 0.2088 - val_binary_accuracy: 0.9180\n",
      "Epoch 211/500\n",
      "72/72 [==============================] - 19s 257ms/step - loss: 0.1355 - binary_accuracy: 0.9479 - val_loss: 0.2094 - val_binary_accuracy: 0.9180\n",
      "Epoch 212/500\n",
      "72/72 [==============================] - 19s 257ms/step - loss: 0.1250 - binary_accuracy: 0.9540 - val_loss: 0.2096 - val_binary_accuracy: 0.9219\n",
      "Epoch 213/500\n",
      "72/72 [==============================] - 19s 257ms/step - loss: 0.1265 - binary_accuracy: 0.9501 - val_loss: 0.2091 - val_binary_accuracy: 0.9180\n",
      "Epoch 214/500\n",
      "72/72 [==============================] - 19s 257ms/step - loss: 0.1222 - binary_accuracy: 0.9518 - val_loss: 0.2087 - val_binary_accuracy: 0.9180\n",
      "Epoch 215/500\n",
      "72/72 [==============================] - 18s 256ms/step - loss: 0.1256 - binary_accuracy: 0.9501 - val_loss: 0.2086 - val_binary_accuracy: 0.9180\n",
      "Epoch 216/500\n",
      "72/72 [==============================] - 19s 257ms/step - loss: 0.1313 - binary_accuracy: 0.9501 - val_loss: 0.2088 - val_binary_accuracy: 0.9180\n",
      "Epoch 217/500\n",
      "72/72 [==============================] - 19s 257ms/step - loss: 0.1236 - binary_accuracy: 0.9531 - val_loss: 0.2091 - val_binary_accuracy: 0.9180\n",
      "Epoch 218/500\n",
      "72/72 [==============================] - 18s 256ms/step - loss: 0.1226 - binary_accuracy: 0.9536 - val_loss: 0.2099 - val_binary_accuracy: 0.9219\n",
      "Epoch 219/500\n",
      "72/72 [==============================] - 19s 257ms/step - loss: 0.1253 - binary_accuracy: 0.9553 - val_loss: 0.2093 - val_binary_accuracy: 0.9180\n",
      "Epoch 220/500\n",
      "72/72 [==============================] - 19s 257ms/step - loss: 0.1263 - binary_accuracy: 0.9514 - val_loss: 0.2095 - val_binary_accuracy: 0.9180\n",
      "Epoch 221/500\n",
      "72/72 [==============================] - 19s 257ms/step - loss: 0.1254 - binary_accuracy: 0.9488 - val_loss: 0.2092 - val_binary_accuracy: 0.9180\n",
      "Epoch 222/500\n",
      "72/72 [==============================] - 18s 256ms/step - loss: 0.1296 - binary_accuracy: 0.9449 - val_loss: 0.2093 - val_binary_accuracy: 0.9219\n",
      "Restoring model weights from the end of the best epoch.\n",
      "\n",
      "Epoch 00222: ReduceLROnPlateau reducing learning rate to 9.99999883788405e-08.\n",
      "Epoch 00222: early stopping\n"
     ]
    }
   ],
   "source": [
    "batch_size = 32 #no of images in each training step\n",
    "epochs = 500 #times passes across training set\n",
    "\n",
    "\n",
    "#fixed validation set\n",
    "trainingGenerator = datagen.flow(x_training, y_training, batch_size=batch_size)\n",
    "history = il_model.fit(trainingGenerator,validation_data=(x_validation,y_validation),steps_per_epoch=len(x_training)/ batch_size, epochs=epochs, callbacks=[earlyStop,reducelr],shuffle=True)"
   ]
  },
  {
   "cell_type": "code",
   "execution_count": null,
   "metadata": {
    "id": "IStmvGZ05IV1"
   },
   "outputs": [],
   "source": [
    "history.history"
   ]
  },
  {
   "cell_type": "markdown",
   "metadata": {
    "id": "3L1tPrQZBJxI"
   },
   "source": [
    "save the history"
   ]
  },
  {
   "cell_type": "code",
   "execution_count": null,
   "metadata": {
    "id": "hB86EIbH7c2F"
   },
   "outputs": [],
   "source": [
    "with open('UNet_3_history', 'wb') as file_pi:\n",
    "        pickle.dump(history.history, file_pi)"
   ]
  },
  {
   "cell_type": "markdown",
   "metadata": {
    "id": "7vjsQa7B8uyT"
   },
   "source": [
    "save models"
   ]
  },
  {
   "cell_type": "code",
   "execution_count": null,
   "metadata": {
    "id": "Q3qp5RcqUzwa"
   },
   "outputs": [],
   "source": [
    "il_model.save('UNet_3_il_model.h5', include_optimizer=False)\n"
   ]
  },
  {
   "cell_type": "code",
   "execution_count": null,
   "metadata": {
    "colab": {
     "base_uri": "https://localhost:8080/"
    },
    "executionInfo": {
     "elapsed": 261,
     "status": "ok",
     "timestamp": 1623948608382,
     "user": {
      "displayName": "Becky Trippier",
      "photoUrl": "",
      "userId": "08787999710290862695"
     },
     "user_tz": -60
    },
    "id": "uTBNlc8-UP-D",
    "outputId": "5a81ff0e-465c-47b0-eed6-917c034bf7f8"
   },
   "outputs": [
    {
     "name": "stdout",
     "output_type": "stream",
     "text": [
      "WARNING:tensorflow:Compiled the loaded model, but the compiled metrics have yet to be built. `model.compile_metrics` will be empty until you train or evaluate the model.\n"
     ]
    }
   ],
   "source": [
    "pl_model.save('UNet_3_pl_model.h5', include_optimizer=False)\n"
   ]
  },
  {
   "cell_type": "code",
   "execution_count": null,
   "metadata": {
    "id": "jR7r7y0AZlzM"
   },
   "outputs": [],
   "source": [
    "#save weights\n",
    "il_model.save_weights('UNet_3_il_model_weights')\n",
    "pl_model.save_weights('UNet_3_pl_model_weights')"
   ]
  },
  {
   "cell_type": "markdown",
   "metadata": {
    "id": "oGncDKljGRt2"
   },
   "source": [
    "Model Evaluation"
   ]
  },
  {
   "cell_type": "code",
   "execution_count": null,
   "metadata": {
    "colab": {
     "base_uri": "https://localhost:8080/"
    },
    "executionInfo": {
     "elapsed": 1896,
     "status": "ok",
     "timestamp": 1623948644046,
     "user": {
      "displayName": "Becky Trippier",
      "photoUrl": "",
      "userId": "08787999710290862695"
     },
     "user_tz": -60
    },
    "id": "zByy2jYe7eBs",
    "outputId": "f09843ad-9e43-49e4-cd31-04046c7fac56"
   },
   "outputs": [
    {
     "name": "stdout",
     "output_type": "stream",
     "text": [
      "Test loss: 0.2669176161289215\n",
      "Test accuracy: 0.9140625\n"
     ]
    }
   ],
   "source": [
    "score = il_model.evaluate(x_test, y_test, verbose=0)\n",
    "print(\"Test loss:\", score[0])\n",
    "print(\"Test accuracy:\", score[1])"
   ]
  },
  {
   "cell_type": "markdown",
   "metadata": {},
   "source": [
    "Find the optimal threshold for bare vs non bare"
   ]
  },
  {
   "cell_type": "code",
   "execution_count": null,
   "metadata": {
    "colab": {
     "base_uri": "https://localhost:8080/"
    },
    "executionInfo": {
     "elapsed": 1993,
     "status": "ok",
     "timestamp": 1623948693380,
     "user": {
      "displayName": "Becky Trippier",
      "photoUrl": "",
      "userId": "08787999710290862695"
     },
     "user_tz": -60
    },
    "id": "0THuRQjQ4n74",
    "outputId": "17398e67-e425-488c-88a5-91ffa5a5d56e"
   },
   "outputs": [
    {
     "name": "stdout",
     "output_type": "stream",
     "text": [
      "Best Threshold=0.060906, F-Score=0.812\n"
     ]
    }
   ],
   "source": [
    "from sklearn.metrics import precision_recall_curve\n",
    "prediction = il_model.predict(x_test, verbose=0)\n",
    "\n",
    "#find f measure - optimal theshold for best balance across precision and recall (harmonic mean)\n",
    "# convert to f score\n",
    "precision, recall, thresholds = precision_recall_curve(y_test,  prediction[...,0])\n",
    "fscore = (2 * precision * recall) / (precision + recall)\n",
    "# locate the index of the largest f score\n",
    "ix = np.argmax(fscore)\n",
    "print('Best Threshold=%f, F-Score=%.3f' % (thresholds[ix], fscore[ix]))"
   ]
  },
  {
   "cell_type": "markdown",
   "metadata": {
    "id": "wFCgX_wlBOrI"
   },
   "source": [
    "Confusion matrix"
   ]
  },
  {
   "cell_type": "code",
   "execution_count": null,
   "metadata": {
    "colab": {
     "base_uri": "https://localhost:8080/"
    },
    "executionInfo": {
     "elapsed": 1788,
     "status": "ok",
     "timestamp": 1623948712109,
     "user": {
      "displayName": "Becky Trippier",
      "photoUrl": "",
      "userId": "08787999710290862695"
     },
     "user_tz": -60
    },
    "id": "e9s1sCMJGUBB",
    "outputId": "93528ae2-e8c3-4e47-f005-613e298be7cf"
   },
   "outputs": [
    {
     "data": {
      "text/plain": [
       "(392, 26, 13, 81)"
      ]
     },
     "execution_count": 18,
     "metadata": {
      "tags": []
     },
     "output_type": "execute_result"
    }
   ],
   "source": [
    "prediction = il_model.predict(x_test, verbose=0)>thresholds[ix]\n",
    "obs = y_test>0.5\n",
    "tn, fp, fn, tp = sklearn.metrics.confusion_matrix(obs, prediction).ravel()\n",
    "(tn, fp, fn, tp)"
   ]
  },
  {
   "cell_type": "code",
   "execution_count": null,
   "metadata": {
    "colab": {
     "base_uri": "https://localhost:8080/"
    },
    "executionInfo": {
     "elapsed": 531,
     "status": "ok",
     "timestamp": 1623948722035,
     "user": {
      "displayName": "Becky Trippier",
      "photoUrl": "",
      "userId": "08787999710290862695"
     },
     "user_tz": -60
    },
    "id": "xsakHwaCGfZd",
    "outputId": "e32d7145-81f5-404b-efde-f21bcb9b3b6d"
   },
   "outputs": [
    {
     "data": {
      "text/plain": [
       "0.8617021276595744"
      ]
     },
     "execution_count": 19,
     "metadata": {
      "tags": []
     },
     "output_type": "execute_result"
    }
   ],
   "source": [
    "#recall rate\n",
    "from sklearn.metrics import recall_score\n",
    "recall_score(obs, prediction, pos_label=True,average='binary')"
   ]
  },
  {
   "cell_type": "code",
   "execution_count": null,
   "metadata": {
    "colab": {
     "base_uri": "https://localhost:8080/"
    },
    "executionInfo": {
     "elapsed": 264,
     "status": "ok",
     "timestamp": 1623948730188,
     "user": {
      "displayName": "Becky Trippier",
      "photoUrl": "",
      "userId": "08787999710290862695"
     },
     "user_tz": -60
    },
    "id": "_N8wa8bpGhPY",
    "outputId": "d0d640e4-c957-42b6-8e87-1cd234acf9f8"
   },
   "outputs": [
    {
     "data": {
      "text/plain": [
       "0.8997505853608877"
      ]
     },
     "execution_count": 20,
     "metadata": {
      "tags": []
     },
     "output_type": "execute_result"
    }
   ],
   "source": [
    "#balanced accuracy\n",
    "from sklearn.metrics import balanced_accuracy_score\n",
    "balanced_accuracy_score(obs, prediction)"
   ]
  },
  {
   "cell_type": "markdown",
   "metadata": {
    "id": "TaPpwHsWBRWe"
   },
   "source": [
    "Plot the history"
   ]
  },
  {
   "cell_type": "code",
   "execution_count": null,
   "metadata": {
    "colab": {
     "base_uri": "https://localhost:8080/",
     "height": 573
    },
    "executionInfo": {
     "elapsed": 1204,
     "status": "ok",
     "timestamp": 1623948759633,
     "user": {
      "displayName": "Becky Trippier",
      "photoUrl": "",
      "userId": "08787999710290862695"
     },
     "user_tz": -60
    },
    "id": "HeG4ELI47qsc",
    "outputId": "9a910839-eaad-4bb2-83d4-693c31d1784b"
   },
   "outputs": [
    {
     "data": {
      "image/png": "[encoded data removed]",
      "text/plain": [
       "<Figure size 432x288 with 1 Axes>"
      ]
     },
     "metadata": {
      "needs_background": "light",
      "tags": []
     },
     "output_type": "display_data"
    },
    {
     "data": {
      "image/png": "[encoded data removed]",
      "text/plain": [
       "<Figure size 432x288 with 1 Axes>"
      ]
     },
     "metadata": {
      "needs_background": "light",
      "tags": []
     },
     "output_type": "display_data"
    }
   ],
   "source": [
    "#plot history\n",
    "import matplotlib.pyplot as plt\n",
    "# summarize history for accuracy\n",
    "plt.plot(history.history['binary_accuracy'])\n",
    "plt.plot(history.history['val_binary_accuracy'])\n",
    "plt.title('model accuracy')\n",
    "plt.ylabel('accuracy')\n",
    "plt.xlabel('epoch')\n",
    "plt.legend(['training', 'validation'], loc='upper left')\n",
    "plt.show()\n",
    "# summarize history for loss\n",
    "plt.plot(history.history['loss'])\n",
    "plt.plot(history.history['val_loss'])\n",
    "plt.title('model loss')\n",
    "plt.ylabel('loss')\n",
    "plt.xlabel('epoch')\n",
    "plt.legend(['training', 'validation'], loc='upper left')\n",
    "plt.show()"
   ]
  },
  {
   "cell_type": "markdown",
   "metadata": {
    "id": "a6S9DDjCB4NA"
   },
   "source": [
    "Chip level predictions"
   ]
  },
  {
   "cell_type": "code",
   "execution_count": null,
   "metadata": {
    "id": "VySw-ZoOB5zs"
   },
   "outputs": [],
   "source": [
    "prediction = il_model.predict(x_test, verbose=0)>thresholds[ix]\n",
    "\n",
    "#get data frame of obs\n",
    "df=pd.DataFrame(prediction)\n",
    "df\n",
    "#write out\n",
    "df.to_csv('UNet3_imgpredictions.csv')"
   ]
  },
  {
   "cell_type": "markdown",
   "metadata": {
    "id": "7G7xrU2TB2Mq"
   },
   "source": [
    "Pixel level predictions"
   ]
  },
  {
   "cell_type": "code",
   "execution_count": null,
   "metadata": {
    "colab": {
     "base_uri": "https://localhost:8080/"
    },
    "executionInfo": {
     "elapsed": 1789,
     "status": "ok",
     "timestamp": 1623948815036,
     "user": {
      "displayName": "Becky Trippier",
      "photoUrl": "",
      "userId": "08787999710290862695"
     },
     "user_tz": -60
    },
    "id": "XPktIOfx8w9Q",
    "outputId": "5253d715-337c-4ac0-e57e-5bd5152815df"
   },
   "outputs": [
    {
     "data": {
      "text/plain": [
       "(512, 256, 256, 1)"
      ]
     },
     "execution_count": 25,
     "metadata": {
      "tags": []
     },
     "output_type": "execute_result"
    }
   ],
   "source": [
    "pl_pred = pl_model.predict(x_test)\n",
    "pl_pred.shape"
   ]
  },
  {
   "cell_type": "code",
   "execution_count": null,
   "metadata": {
    "id": "g1MKyhoZeM0I"
   },
   "outputs": [],
   "source": [
    "pl_pred[0,...,0]"
   ]
  },
  {
   "cell_type": "code",
   "execution_count": null,
   "metadata": {
    "id": "4w_RQhYH_NuO"
   },
   "outputs": [],
   "source": [
    "np.save('drive/MyDrive/DeepLearning/ModelHistory/UNet_3/UNet3_predictions.npy',pl_pred[...,0])"
   ]
  },
  {
   "cell_type": "code",
   "execution_count": null,
   "metadata": {
    "colab": {
     "base_uri": "https://localhost:8080/",
     "height": 389
    },
    "executionInfo": {
     "elapsed": 366,
     "status": "ok",
     "timestamp": 1623948977016,
     "user": {
      "displayName": "Becky Trippier",
      "photoUrl": "",
      "userId": "08787999710290862695"
     },
     "user_tz": -60
    },
    "id": "94YhUcRDSz6t",
    "outputId": "c2a163b3-c731-4ba9-b906-3f2389a88633"
   },
   "outputs": [
    {
     "data": {
      "text/plain": [
       "<matplotlib.image.AxesImage at 0x7f0470196310>"
      ]
     },
     "execution_count": 34,
     "metadata": {
      "tags": []
     },
     "output_type": "execute_result"
    },
    {
     "data": {
      "image/png": "[encoded data removed]",
      "text/plain": [
       "<Figure size 708.661x425.197 with 1 Axes>"
      ]
     },
     "metadata": {
      "needs_background": "light",
      "tags": []
     },
     "output_type": "display_data"
    }
   ],
   "source": [
    "from matplotlib import pyplot as plt\n",
    "plt.imshow(pl_pred[36,...,0])"
   ]
  },
  {
   "cell_type": "code",
   "execution_count": null,
   "metadata": {
    "colab": {
     "base_uri": "https://localhost:8080/",
     "height": 372
    },
    "executionInfo": {
     "elapsed": 1227,
     "status": "ok",
     "timestamp": 1623948984085,
     "user": {
      "displayName": "Becky Trippier",
      "photoUrl": "",
      "userId": "08787999710290862695"
     },
     "user_tz": -60
    },
    "id": "SAMeXXgmvdqd",
    "outputId": "0df4b01c-29fe-4a7a-9a53-193232789a96"
   },
   "outputs": [
    {
     "data": {
      "image/png": "[encoded data removed]",
      "text/plain": [
       "<Figure size 708.661x425.197 with 1 Axes>"
      ]
     },
     "metadata": {
      "needs_background": "light",
      "tags": []
     },
     "output_type": "display_data"
    }
   ],
   "source": [
    "plt.imshow(x_test[36,...,0:3])\n",
    "plt.rcParams[\"figure.figsize\"] = (25/2.54,15/2.54)\n",
    "plt.show()"
   ]
  },
  {
   "cell_type": "code",
   "execution_count": null,
   "metadata": {
    "colab": {
     "base_uri": "https://localhost:8080/"
    },
    "executionInfo": {
     "elapsed": 524,
     "status": "ok",
     "timestamp": 1623948842897,
     "user": {
      "displayName": "Becky Trippier",
      "photoUrl": "",
      "userId": "08787999710290862695"
     },
     "user_tz": -60
    },
    "id": "NhIey0qP-Gee",
    "outputId": "7d6f7c8b-4302-4db7-a04d-30ebfd6b1ba9"
   },
   "outputs": [
    {
     "data": {
      "text/plain": [
       "(512, 256, 256, 4)"
      ]
     },
     "execution_count": 31,
     "metadata": {
      "tags": []
     },
     "output_type": "execute_result"
    }
   ],
   "source": [
    "x_test.shape"
   ]
  },
  {
   "cell_type": "markdown",
   "metadata": {
    "id": "47ofzNCdSnv9"
   },
   "source": [
    "\n",
    "**Load and predict over unseen data with models**"
   ]
  },
  {
   "cell_type": "markdown",
   "metadata": {
    "id": "SHDqpax9-IGu"
   },
   "source": [
    "load chip level model"
   ]
  },
  {
   "cell_type": "code",
   "execution_count": null,
   "metadata": {
    "id": "G0MoHjMw8t0-"
   },
   "outputs": [],
   "source": [
    "#load the model\n",
    "model2 = keras.models.load_model('UNet_3_il_model.h5')\n",
    "model2.compile(optimizer=keras.optimizers.Adam(lr=0.1),\n",
    "                      loss=\"binary_crossentropy\",\n",
    "                      metrics=['binary_accuracy'])\n",
    "\n",
    "model2.summary()"
   ]
  },
  {
   "cell_type": "code",
   "execution_count": null,
   "metadata": {
    "colab": {
     "base_uri": "https://localhost:8080/"
    },
    "executionInfo": {
     "elapsed": 3556,
     "status": "ok",
     "timestamp": 1624525474141,
     "user": {
      "displayName": "Becky Trippier",
      "photoUrl": "",
      "userId": "08787999710290862695"
     },
     "user_tz": -60
    },
    "id": "AzMevlgpDKD_",
    "outputId": "515d5dfc-392f-4a52-9589-2dd4324abb62"
   },
   "outputs": [
    {
     "name": "stdout",
     "output_type": "stream",
     "text": [
      "511 test samples\n"
     ]
    }
   ],
   "source": [
    "#load test dataset 2\n",
    "test2array = np.load('test2array.npy')\n",
    "# test data\n",
    "test2Data = test2array[...,0:4]\n",
    "test2Data.shape\n",
    "\n",
    "# test label\n",
    "test2Label = test2array[...,4].max(axis=(1,2))\n",
    "test2Label.shape\n",
    "\n",
    "x_test2 = test2Data\n",
    "y_test2 = test2Label\n",
    "x_test2 = x_test2.astype(\"float32\") / 255\n",
    "print(x_test2.shape[0], \"test samples\")"
   ]
  },
  {
   "cell_type": "code",
   "execution_count": null,
   "metadata": {
    "colab": {
     "base_uri": "https://localhost:8080/"
    },
    "executionInfo": {
     "elapsed": 2399,
     "status": "ok",
     "timestamp": 1624006113593,
     "user": {
      "displayName": "Becky Trippier",
      "photoUrl": "",
      "userId": "08787999710290862695"
     },
     "user_tz": -60
    },
    "id": "M1C6lqwdTosS",
    "outputId": "f39ddb62-4d96-4edc-b633-40eba616ee53"
   },
   "outputs": [
    {
     "name": "stdout",
     "output_type": "stream",
     "text": [
      "Test loss: 0.6347871422767639\n",
      "Test accuracy: 0.7925636172294617\n"
     ]
    }
   ],
   "source": [
    "#evaluate model performance with the new data\n",
    "score = model2.evaluate(x_test2, y_test2, verbose=0)\n",
    "print(\"Test loss:\", score[0])\n",
    "print(\"Test accuracy:\", score[1])"
   ]
  },
  {
   "cell_type": "markdown",
   "metadata": {
    "id": "FhGOxYrl_oYW"
   },
   "source": [
    "load pixel level model"
   ]
  },
  {
   "cell_type": "code",
   "execution_count": null,
   "metadata": {
    "colab": {
     "base_uri": "https://localhost:8080/"
    },
    "executionInfo": {
     "elapsed": 1532,
     "status": "ok",
     "timestamp": 1624540118264,
     "user": {
      "displayName": "Becky Trippier",
      "photoUrl": "",
      "userId": "08787999710290862695"
     },
     "user_tz": -60
    },
    "id": "g1_XSzBw-Jt7",
    "outputId": "f6c3e629-3908-44c4-8e63-8ba601d9cd8f"
   },
   "outputs": [
    {
     "name": "stdout",
     "output_type": "stream",
     "text": [
      "WARNING:tensorflow:No training configuration found in the save file, so the model was *not* compiled. Compile it manually.\n"
     ]
    }
   ],
   "source": [
    "model3 = keras.models.load_model('UNet_3_pl_model.h5')\n"
   ]
  },
  {
   "cell_type": "code",
   "execution_count": null,
   "metadata": {
    "colab": {
     "base_uri": "https://localhost:8080/"
    },
    "executionInfo": {
     "elapsed": 1165,
     "status": "ok",
     "timestamp": 1624540122087,
     "user": {
      "displayName": "Becky Trippier",
      "photoUrl": "",
      "userId": "08787999710290862695"
     },
     "user_tz": -60
    },
    "id": "2UehsJAmABcO",
    "outputId": "0d80f0e1-0bc8-4ab6-be27-f2bd5aaacf7f"
   },
   "outputs": [
    {
     "data": {
      "text/plain": [
       "<tensorflow.python.training.tracking.util.CheckpointLoadStatus at 0x7f544023b590>"
      ]
     },
     "execution_count": 5,
     "metadata": {
      "tags": []
     },
     "output_type": "execute_result"
    }
   ],
   "source": [
    "load_status = model3.load_weights('UNet_3_pl_model_weights')\n",
    "load_status.assert_consumed()\n"
   ]
  },
  {
   "cell_type": "markdown",
   "metadata": {},
   "source": [
    "make predictions at the pixel level"
   ]
  },
  {
   "cell_type": "code",
   "execution_count": null,
   "metadata": {
    "colab": {
     "base_uri": "https://localhost:8080/"
    },
    "executionInfo": {
     "elapsed": 17800,
     "status": "ok",
     "timestamp": 1624525547100,
     "user": {
      "displayName": "Becky Trippier",
      "photoUrl": "",
      "userId": "08787999710290862695"
     },
     "user_tz": -60
    },
    "id": "dzh38jGSThzi",
    "outputId": "573a2361-4c99-4424-9aeb-538585610aa2"
   },
   "outputs": [
    {
     "data": {
      "text/plain": [
       "(511, 256, 256, 1)"
      ]
     },
     "execution_count": 13,
     "metadata": {
      "tags": []
     },
     "output_type": "execute_result"
    }
   ],
   "source": [
    "pl_pred = model3.predict(x_test2)\n",
    "pl_pred.shape\n"
   ]
  },
  {
   "cell_type": "markdown",
   "metadata": {},
   "source": [
    "write out predictions"
   ]
  },
  {
   "cell_type": "code",
   "execution_count": null,
   "metadata": {
    "id": "KW8et7T_TvlN"
   },
   "outputs": [],
   "source": [
    "np.save('UNet3_test2_predictions.npy',pl_pred[...,0])"
   ]
  },
  {
   "cell_type": "markdown",
   "metadata": {
    "id": "e4WQ6EikI1hW"
   },
   "source": [
    "Testing on Yorkshire"
   ]
  },
  {
   "cell_type": "code",
   "execution_count": null,
   "metadata": {
    "colab": {
     "base_uri": "https://localhost:8080/"
    },
    "executionInfo": {
     "elapsed": 22639,
     "status": "ok",
     "timestamp": 1624540242672,
     "user": {
      "displayName": "Becky Trippier",
      "photoUrl": "",
      "userId": "08787999710290862695"
     },
     "user_tz": -60
    },
    "id": "c82VpdEZI4jl",
    "outputId": "46bfa4e6-7d60-4cb2-fa26-b21bc6f51fe1"
   },
   "outputs": [
    {
     "name": "stdout",
     "output_type": "stream",
     "text": [
      "1024 test samples\n"
     ]
    }
   ],
   "source": [
    "yorkshirearray = np.load('yorkshireArray.npy')\n",
    "# test data\n",
    "yorkshireData = yorkshirearray[...,0:4]\n",
    "yorkshireData.shape\n",
    "\n",
    "# test label\n",
    "yorkshireLabel = yorkshirearray[...,4].max(axis=(1,2))\n",
    "yorkshireLabel.shape\n",
    "\n",
    "x_test = yorkshireData\n",
    "y_test = yorkshireLabel\n",
    "x_test = x_test.astype(\"float32\") / 255\n",
    "print(x_test.shape[0], \"test samples\")"
   ]
  },
  {
   "cell_type": "markdown",
   "metadata": {
    "id": "DUpedKjMKz0y"
   },
   "source": [
    "Chip level"
   ]
  },
  {
   "cell_type": "code",
   "execution_count": null,
   "metadata": {
    "colab": {
     "base_uri": "https://localhost:8080/"
    },
    "executionInfo": {
     "elapsed": 18806,
     "status": "ok",
     "timestamp": 1624540315152,
     "user": {
      "displayName": "Becky Trippier",
      "photoUrl": "",
      "userId": "08787999710290862695"
     },
     "user_tz": -60
    },
    "id": "n5y5oDGGJRws",
    "outputId": "aff28ad9-f90e-4473-be12-ac5c63f347cf"
   },
   "outputs": [
    {
     "name": "stdout",
     "output_type": "stream",
     "text": [
      "Test loss: 0.8833791017532349\n",
      "Test accuracy: 0.830078125\n"
     ]
    }
   ],
   "source": [
    "#chip level evaluation\n",
    "score = model2.evaluate(x_test, y_test, verbose=0)\n",
    "print(\"Test loss:\", score[0])\n",
    "print(\"Test accuracy:\", score[1])"
   ]
  },
  {
   "cell_type": "code",
   "execution_count": null,
   "metadata": {
    "colab": {
     "base_uri": "https://localhost:8080/"
    },
    "executionInfo": {
     "elapsed": 2756,
     "status": "ok",
     "timestamp": 1624540470358,
     "user": {
      "displayName": "Becky Trippier",
      "photoUrl": "",
      "userId": "08787999710290862695"
     },
     "user_tz": -60
    },
    "id": "rgZJdN_BKAjI",
    "outputId": "780d9beb-9d5d-4caf-ca35-041569cb65fd"
   },
   "outputs": [
    {
     "name": "stdout",
     "output_type": "stream",
     "text": [
      "Best Threshold=0.011270, F-Score=0.648\n"
     ]
    }
   ],
   "source": [
    "from sklearn.metrics import precision_recall_curve\n",
    "prediction = model2.predict(x_test, verbose=0)\n",
    "\n",
    "#find f measure - optimal theshold for best balance across precision and recall (harmonic mean)\n",
    "# convert to f score\n",
    "precision, recall, thresholds = precision_recall_curve(y_test,  prediction[...,0])\n",
    "fscore = (2 * precision * recall) / (precision + recall)\n",
    "# locate the index of the largest f score\n",
    "ix = np.argmax(fscore)\n",
    "print('Best Threshold=%f, F-Score=%.3f' % (thresholds[ix], fscore[ix]))"
   ]
  },
  {
   "cell_type": "code",
   "execution_count": null,
   "metadata": {
    "colab": {
     "base_uri": "https://localhost:8080/"
    },
    "executionInfo": {
     "elapsed": 2783,
     "status": "ok",
     "timestamp": 1624540366668,
     "user": {
      "displayName": "Becky Trippier",
      "photoUrl": "",
      "userId": "08787999710290862695"
     },
     "user_tz": -60
    },
    "id": "buIv6yAJJi6F",
    "outputId": "ce055c93-c32c-4020-f75c-f0927abd50fd"
   },
   "outputs": [
    {
     "data": {
      "text/plain": [
       "(1024, 1)"
      ]
     },
     "execution_count": 8,
     "metadata": {
      "tags": []
     },
     "output_type": "execute_result"
    }
   ],
   "source": [
    "#chip level predictions\n",
    "img_pred = model2.predict(x_test)\n",
    "img_pred.shape"
   ]
  },
  {
   "cell_type": "code",
   "execution_count": null,
   "metadata": {
    "id": "QPYFpJi7Jttl"
   },
   "outputs": [],
   "source": [
    "#save chip level\n",
    "prediction = model2.predict(x_test, verbose=0)>thresholds[ix]\n",
    "\n",
    "#get data frame of obs\n",
    "df=pd.DataFrame(prediction)\n",
    "df\n",
    "#write out\n",
    "df.to_csv('Yorkshire_imgpredictions.csv')"
   ]
  },
  {
   "cell_type": "markdown",
   "metadata": {
    "id": "5XlEwUpCKv6U"
   },
   "source": [
    "Pixel level predictions"
   ]
  },
  {
   "cell_type": "code",
   "execution_count": null,
   "metadata": {
    "colab": {
     "base_uri": "https://localhost:8080/"
    },
    "executionInfo": {
     "elapsed": 3242,
     "status": "ok",
     "timestamp": 1624540609381,
     "user": {
      "displayName": "Becky Trippier",
      "photoUrl": "",
      "userId": "08787999710290862695"
     },
     "user_tz": -60
    },
    "id": "u9vPWABSJeha",
    "outputId": "4df61f85-2190-4dd0-c6d8-42adfb54eaf0"
   },
   "outputs": [
    {
     "data": {
      "text/plain": [
       "(1024, 256, 256, 1)"
      ]
     },
     "execution_count": 12,
     "metadata": {
      "tags": []
     },
     "output_type": "execute_result"
    }
   ],
   "source": [
    "# pixel level \n",
    "pl_pred = model3.predict(x_test)\n",
    "pl_pred.shape"
   ]
  },
  {
   "cell_type": "code",
   "execution_count": null,
   "metadata": {
    "id": "gWWczNJSK4SI"
   },
   "outputs": [],
   "source": [
    "np.save('Yorkshire_pxlpredictions.npy',pl_pred[...,0])"
   ]
  }
 ],
 "metadata": {
  "accelerator": "GPU",
  "colab": {
   "authorship_tag": "ABX9TyPXbsF77dl//RPsD0+IEN1I",
   "collapsed_sections": [],
   "machine_shape": "hm",
   "mount_file_id": "1TuUo8cSTJL2wGcjRYwRgmWG762FsoPy2",
   "name": "Pixel based.ipynb",
   "provenance": []
  },
  "kernelspec": {
   "display_name": "Python 3",
   "language": "python",
   "name": "python3"
  },
  "language_info": {
   "codemirror_mode": {
    "name": "ipython",
    "version": 3
   },
   "file_extension": ".py",
   "mimetype": "text/x-python",
   "name": "python",
   "nbconvert_exporter": "python",
   "pygments_lexer": "ipython3",
   "version": "3.8.5"
  }
 },
 "nbformat": 4,
 "nbformat_minor": 1
}
