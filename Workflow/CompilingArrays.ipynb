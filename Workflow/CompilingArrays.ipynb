{
 "cells": [
  {
   "cell_type": "markdown",
   "metadata": {},
   "source": [
    "# Walkthrough to stack NumPy arrays"
   ]
  },
  {
   "cell_type": "markdown",
   "metadata": {},
   "source": [
    "Load packages:"
   ]
  },
  {
   "cell_type": "code",
   "execution_count": 1,
   "metadata": {},
   "outputs": [],
   "source": [
    "import numpy as np\n",
    "import pandas as pd    \n",
    "import os"
   ]
  },
  {
   "cell_type": "markdown",
   "metadata": {},
   "source": [
    "Define stacking function - this loads in the individual arrays and appends this to an existing object. This returns the larger stack of arrays"
   ]
  },
  {
   "cell_type": "code",
   "execution_count": 2,
   "metadata": {},
   "outputs": [],
   "source": [
    "def stackarray(foldername#,start,stop\n",
    "               ):\n",
    "  \n",
    "  filelist = os.listdir(foldername)\n",
    "\n",
    "  array_list = []\n",
    "  for file in filelist:\n",
    "    a = np.load(f'{foldername}/{file}').reshape((256,256,5),order='F')\n",
    "    array_list.append(a)\n",
    "  \n",
    "  return(np.stack(array_list))\n"
   ]
  },
  {
   "cell_type": "markdown",
   "metadata": {},
   "source": [
    "Compile Test Array"
   ]
  },
  {
   "cell_type": "code",
   "execution_count": 5,
   "metadata": {},
   "outputs": [
    {
     "data": {
      "text/plain": [
       "(512, 256, 256, 5)"
      ]
     },
     "execution_count": 5,
     "metadata": {},
     "output_type": "execute_result"
    }
   ],
   "source": [
    "#list test arrays\n",
    "filelist = os.listdir('Data/Imagery/PeakDistrict/Arrays/Test')\n",
    "#run stacking function\n",
    "testarray = stackarray('Data/Imagery/PeakDistrict/Arrays/Test')\n",
    "#check shape of output\n",
    "testarray.shape"
   ]
  },
  {
   "cell_type": "code",
   "execution_count": 6,
   "metadata": {},
   "outputs": [],
   "source": [
    "np.save('Data/Imagery/PeakDistrict/Arrays/testarray.npy',testarray)"
   ]
  },
  {
   "cell_type": "markdown",
   "metadata": {},
   "source": [
    "Compile Training Array "
   ]
  },
  {
   "cell_type": "code",
   "execution_count": 7,
   "metadata": {},
   "outputs": [
    {
     "data": {
      "text/plain": [
       "(2560, 256, 256, 5)"
      ]
     },
     "execution_count": 7,
     "metadata": {},
     "output_type": "execute_result"
    }
   ],
   "source": [
    "#run stacking function\n",
    "trainarray = stackarray('Data/Imagery/PeakDistrict/Arrays/Training')\n",
    "#check shape of output\n",
    "trainarray.shape"
   ]
  },
  {
   "cell_type": "code",
   "execution_count": 8,
   "metadata": {},
   "outputs": [],
   "source": [
    "np.save('Data/Imagery/PeakDistrict/Arrays/trainarray.npy',trainarray)\n"
   ]
  }
 ],
 "metadata": {
  "kernelspec": {
   "display_name": "Python 3",
   "language": "python",
   "name": "python3"
  },
  "language_info": {
   "codemirror_mode": {
    "name": "ipython",
    "version": 3
   },
   "file_extension": ".py",
   "mimetype": "text/x-python",
   "name": "python",
   "nbconvert_exporter": "python",
   "pygments_lexer": "ipython3",
   "version": "3.8.5"
  }
 },
 "nbformat": 4,
 "nbformat_minor": 4
}
